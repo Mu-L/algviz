{
 "cells": [
  {
   "cell_type": "markdown",
   "metadata": {},
   "source": [
    "This file shows some examples of how to visualize tree data in [jupyter notebook](https://jupyter.org/).\n",
    "You can see a binary tree like this after run the code cells below in your jupyter notebook.\n",
    "\n",
    "![binary_tree](https://raw.githubusercontent.com/zjl9959/algviz/e4a691dfa047e8cdc299a13550dc51f2465d79ae/examples/static/binary_tree.svg)\n",
    "\n",
    "If you encounter an unknown error when running this example.\n",
    "Please check if the runtime environemt is [setup](https://github.com/zjl9959/algviz#installation) correctly, otherwise please [report](https://github.com/zjl9959/algviz/issues) a bug."
   ]
  },
  {
   "cell_type": "markdown",
   "metadata": {},
   "source": [
    "### Traverse a binary tree\n",
    "\n",
    "This example below shows how to create a binary tree and traverse it by depth first algorithm."
   ]
  },
  {
   "cell_type": "code",
   "execution_count": null,
   "metadata": {},
   "outputs": [],
   "source": [
    "import algviz\n",
    "\n",
    "# Create a visualizer object.\n",
    "viz = algviz.Visualizer(2.0)\n",
    "\n",
    "'''\n",
    "Create a binary tree like this:\n",
    "        1\n",
    "       / \\\n",
    "      2   3\n",
    "     / \\   \\\n",
    "    4   5   6\n",
    "'''\n",
    "tree_nodes = [1, 2, 3, 4, 5, None, 6]\n",
    "root = algviz.parseBinaryTree(tree_nodes)\n",
    "graph = viz.createGraph(root)\n",
    "viz.display()\n",
    "\n",
    "# This rescursive function implement the binary tree traverse algorithm.\n",
    "def traverse_tree(root):\n",
    "    if root is not None:\n",
    "        root.val\n",
    "        viz.display()\n",
    "        traverse_tree(root.left)\n",
    "        traverse_tree(root.right)\n",
    "\n",
    "# Traverse tree from root node.\n",
    "traverse_tree(root)"
   ]
  },
  {
   "cell_type": "markdown",
   "metadata": {},
   "source": [
    "### Mark and modify binary tree nodes\n",
    "\n",
    "This example below shows how to modify and mark nodes in a binary tree. "
   ]
  },
  {
   "cell_type": "code",
   "execution_count": null,
   "metadata": {},
   "outputs": [],
   "source": [
    "import algviz\n",
    "\n",
    "# Create a visualizer object.\n",
    "viz = algviz.Visualizer(3.0)\n",
    "'''\n",
    "Create a binary tree like this:\n",
    "        1\n",
    "       / \\\n",
    "      2   3\n",
    "     / \\   \\\n",
    "    4   5   6\n",
    "'''\n",
    "tree_nodes = [1, 2, 3, 4, 5, None, 6]\n",
    "root = algviz.parseBinaryTree(tree_nodes)\n",
    "graph = viz.createGraph(root)\n",
    "viz.display()\n",
    "\n",
    "'''\n",
    "Create a new subtree like this:\n",
    "        7\n",
    "       / \\\n",
    "      8   9\n",
    "'''\n",
    "new_node = algviz.BinaryTreeNode(7)\n",
    "new_node.left = algviz.BinaryTreeNode(8)\n",
    "new_node.right = algviz.BinaryTreeNode(9)\n",
    "graph.addNode(new_node)\n",
    "viz.display()\n",
    "\n",
    "# Replace the root tree's right subtree by new created subtree. \n",
    "graph.removeNode(root.right, recursive=True)\n",
    "root.right = new_node\n",
    "viz.display()\n",
    "\n",
    "# Mark root node with green bgcolor.\n",
    "graph.markNode(algviz.color_green, root, hold=True)\n",
    "viz.display(delay=2.0)\n",
    "# Remove the mark.\n",
    "graph.removeMark(algviz.color_green)\n",
    "viz.display(delay=2.0)"
   ]
  },
  {
   "cell_type": "markdown",
   "metadata": {},
   "source": [
    "### Mirror a binary tree\n",
    "\n",
    "This example below shows how to implement a binary tree mirror algorithm with `algviz`."
   ]
  },
  {
   "cell_type": "code",
   "execution_count": null,
   "metadata": {},
   "outputs": [],
   "source": [
    "import algviz\n",
    "\n",
    "# Create a visualizer object.\n",
    "viz = algviz.Visualizer(3.0)\n",
    "# Create a binary tree.\n",
    "tree_nodes = [1,\n",
    "              2, 3,\n",
    "              4, 5, 6, 7,\n",
    "              8, None, 9, None, None, None, 10, 11]\n",
    "root = algviz.parseBinaryTree(tree_nodes)\n",
    "graph = viz.createGraph(root)\n",
    "viz.display()\n",
    "\n",
    "# This rescursive function implement a mirror algorithm.\n",
    "def mirror_tree(root):\n",
    "    if root is None:\n",
    "        return None\n",
    "    left_subtree = None\n",
    "    if root.left:\n",
    "        left_subtree = mirror_tree(root.left)\n",
    "    right_subtree = None\n",
    "    if root.right:\n",
    "        right_subtree = mirror_tree(root.right)\n",
    "    root.left = right_subtree\n",
    "    root.right = left_subtree\n",
    "    viz.display()       # Display the newest tree when we swap it's subtrees.\n",
    "    return root\n",
    "# Mirror tree from root node.\n",
    "mirror_tree(root)\n",
    "viz.display(delay=1.0)"
   ]
  },
  {
   "cell_type": "markdown",
   "metadata": {},
   "source": [
    "### Create a tree with multiply children"
   ]
  },
  {
   "cell_type": "code",
   "execution_count": null,
   "metadata": {},
   "outputs": [],
   "source": [
    "import algviz\n",
    "\n",
    "# Create a visualizer object.\n",
    "viz = algviz.Visualizer(0.1)\n",
    "tree_info = {\n",
    "    0: [1, 2, 3],\n",
    "    1: [4, 5],\n",
    "    2: [8],\n",
    "    5: [9, 10]\n",
    "}\n",
    "root = algviz.parseTree(tree_info, {10:'n10'})\n",
    "graph = viz.createGraph(root)\n",
    "viz.display()"
   ]
  },
  {
   "cell_type": "markdown",
   "metadata": {},
   "source": [
    "### Construct a trie tree"
   ]
  },
  {
   "cell_type": "code",
   "execution_count": null,
   "metadata": {},
   "outputs": [],
   "source": [
    "import algviz\n",
    "\n",
    "str_list = ['b', 'abc', 'abd', 'bcd', 'abcd', 'efg', 'hii']\n",
    "\n",
    "# Create a visualizer object.\n",
    "viz = algviz.Visualizer(3.0)\n",
    "root = algviz.TreeNode('root')\n",
    "graph = viz.createGraph(root)\n",
    "\n",
    "# Construct trie tree step by step.\n",
    "for s in str_list:\n",
    "    cur = root\n",
    "    for c in s:\n",
    "        child_pos = None\n",
    "        for child in cur.children():\n",
    "            if str(child) == c:\n",
    "                child_pos = child\n",
    "                break\n",
    "        if not child_pos:\n",
    "            child_pos = algviz.TreeNode(c)\n",
    "            cur.add(child_pos)\n",
    "        cur = child_pos\n",
    "        viz.display()"
   ]
  }
 ],
 "metadata": {
  "interpreter": {
   "hash": "815ac738e0f697bd51fd06b8a1fd40126c4f0901e89f12f4abca109931f98f14"
  },
  "kernelspec": {
   "display_name": "Python 3.9.6 64-bit",
   "language": "python",
   "name": "python3"
  },
  "language_info": {
   "codemirror_mode": {
    "name": "ipython",
    "version": 3
   },
   "file_extension": ".py",
   "mimetype": "text/x-python",
   "name": "python",
   "nbconvert_exporter": "python",
   "pygments_lexer": "ipython3",
   "version": "3.9.6"
  }
 },
 "nbformat": 4,
 "nbformat_minor": 4
}
