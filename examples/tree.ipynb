{
 "cells": [
  {
   "cell_type": "markdown",
   "metadata": {},
   "source": [
    "This file shows some examples of how to visualize tree data in [jupyter notebook](https://jupyter.org/).\n",
    "You can see a binary tree like this after run the code cells below in your jupyter notebook.\n",
    "\n",
    "![binary_tree](static/binary_tree.svg)\n",
    "\n",
    "If you encounter an unknown error when running this example.\n",
    "Please check if the runtime environemt is [setup](../README.md) correctly, otherwise please [report](https://github.com/zjl9959/algviz/issues) a bug."
   ]
  },
  {
   "cell_type": "markdown",
   "metadata": {},
   "source": [
    "### Traverse a binary tree\n",
    "\n",
    "This example below shows how to create a binary tree and traverse it by depth first algorithm."
   ]
  },
  {
   "cell_type": "code",
   "execution_count": null,
   "metadata": {},
   "outputs": [],
   "source": [
    "import algviz\n",
    "\n",
    "# Create a visualizer object.\n",
    "viz = algviz.Visualizer(2.0)\n",
    "\n",
    "'''\n",
    "Create a binary tree like this:\n",
    "        1\n",
    "       / \\\n",
    "      2   3\n",
    "     / \\   \\\n",
    "    4   5   6\n",
    "'''\n",
    "tree_nodes = [1, 2, 3, 4, 5, None, 6]\n",
    "root = algviz.parseBinaryTree(tree_nodes)\n",
    "graph = viz.createGraph(root, horizontal=False)\n",
    "viz.display()\n",
    "\n",
    "# This rescursive function implement the binary tree traverse algorithm.\n",
    "def traverse_tree(root):\n",
    "    if root is not None:\n",
    "        root.val\n",
    "        viz.display()\n",
    "        traverse_tree(root.left)\n",
    "        traverse_tree(root.right)\n",
    "\n",
    "# Traverse tree from root node.\n",
    "traverse_tree(root)"
   ]
  },
  {
   "cell_type": "markdown",
   "metadata": {},
   "source": [
    "### Mark and modify binary tree nodes\n",
    "\n",
    "This example below shows how to modify and mark nodes in a binary tree. "
   ]
  },
  {
   "cell_type": "code",
   "execution_count": null,
   "metadata": {},
   "outputs": [],
   "source": [
    "import algviz\n",
    "\n",
    "# Create a visualizer object.\n",
    "viz = algviz.Visualizer(3.0)\n",
    "'''\n",
    "Create a binary tree like this:\n",
    "        1\n",
    "       / \\\n",
    "      2   3\n",
    "     / \\   \\\n",
    "    4   5   6\n",
    "'''\n",
    "tree_nodes = [1, 2, 3, 4, 5, None, 6]\n",
    "root = algviz.parseBinaryTree(tree_nodes)\n",
    "graph = viz.createGraph(root, horizontal=False)\n",
    "viz.display()\n",
    "\n",
    "'''\n",
    "Create a new subtree like this:\n",
    "        7\n",
    "       / \\\n",
    "      8   9\n",
    "'''\n",
    "new_node = algviz.BinaryTreeNode(7)\n",
    "new_node.left = algviz.BinaryTreeNode(8)\n",
    "new_node.right = algviz.BinaryTreeNode(9)\n",
    "graph.addNode(new_node)\n",
    "viz.display()\n",
    "\n",
    "# Replace the root tree's right subtree by new created subtree. \n",
    "graph.removeNode(root.right, recursive=True)\n",
    "root.right = new_node\n",
    "viz.display()\n",
    "\n",
    "# Mark root node with green bgcolor.\n",
    "graph.markNode(algviz.colors['green'], root, hold=True)\n",
    "viz.display(delay=2.0)\n",
    "# Remove the mark.\n",
    "graph.removeMark(algviz.colors['green'])\n",
    "viz.display(delay=2.0)"
   ]
  },
  {
   "cell_type": "markdown",
   "metadata": {},
   "source": [
    "### Mirror a binary tree\n",
    "\n",
    "This example below shows how to implement a binary tree mirror algorithm with `algviz`."
   ]
  },
  {
   "cell_type": "code",
   "execution_count": null,
   "metadata": {},
   "outputs": [],
   "source": [
    "import algviz\n",
    "\n",
    "# Create a visualizer object.\n",
    "viz = algviz.Visualizer(3.0)\n",
    "# Create a binary tree.\n",
    "tree_nodes = [1,\n",
    "              2, 3,\n",
    "              4, 5, 6, 7,\n",
    "              8, None, 9, None, None, None, 10, 11]\n",
    "root = algviz.parseBinaryTree(tree_nodes)\n",
    "graph = viz.createGraph(root, horizontal=False)\n",
    "viz.display()\n",
    "\n",
    "# This rescursive function implement a mirror algorithm.\n",
    "def mirror_tree(root):\n",
    "    if root is None:\n",
    "        return None\n",
    "    left_subtree = None\n",
    "    if root.left:\n",
    "        left_subtree = mirror_tree(root.left)\n",
    "    right_subtree = None\n",
    "    if root.right:\n",
    "        right_subtree = mirror_tree(root.right)\n",
    "    root.left = right_subtree\n",
    "    root.right = left_subtree\n",
    "    viz.display()       # Display the newest tree when we swap it's subtrees.\n",
    "    return root\n",
    "# Mirror tree from root node.\n",
    "mirror_tree(root)\n",
    "viz.display(delay=1.0)"
   ]
  }
 ],
 "metadata": {
  "kernelspec": {
   "display_name": "Python 3",
   "language": "python",
   "name": "python3"
  },
  "language_info": {
   "codemirror_mode": {
    "name": "ipython",
    "version": 3
   },
   "file_extension": ".py",
   "mimetype": "text/x-python",
   "name": "python",
   "nbconvert_exporter": "python",
   "pygments_lexer": "ipython3",
   "version": "3.9.6"
  }
 },
 "nbformat": 4,
 "nbformat_minor": 4
}
