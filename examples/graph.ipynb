{
 "cells": [
  {
   "cell_type": "markdown",
   "metadata": {},
   "source": [
    "This file shows some examples of how to visualize graph data in [jupyter notebook](https://jupyter.org/).\n",
    "You can see a graph like this after run the code cells below in your jupyter notebook.\n",
    "\n",
    "![basic_graph](static/basic_graph.svg)\n",
    "\n",
    "If you encounter an unknown error when running this example.\n",
    "Place check if the runtime environemt is [setup](../README.md) correctly, otherwise please [report](https://github.com/zjl9959/algviz/issues) a bug."
   ]
  },
  {
   "cell_type": "markdown",
   "metadata": {},
   "source": [
    "### Crate a directed graph\n",
    " \n",
    "Let's name this directed graph as `graph_1`."
   ]
  },
  {
   "cell_type": "code",
   "execution_count": null,
   "metadata": {},
   "outputs": [],
   "source": [
    "import sys\n",
    "from IPython import display\n",
    "import time\n",
    "\n",
    "sys.path.append('../algviz')\n",
    "import svg_graph\n",
    "import graph\n",
    "\n",
    "nodes_str = [[0, 0], [1,2], [2,3], [3,4], [4,5], [5,6], [6,7], [7,7]]\n",
    "edges_str = [[0,3], [3,5], [5,4], [4,1], [1,0], [2,0], [5,2], [4,6]]\n",
    "graph_nodes = graph.parseGraph(edges_str, nodes_str)\n",
    "gra = svg_graph.SvgGraph(list(graph_nodes.values()), True, 3.0, horizontal=True)\n",
    "display.display(gra)"
   ]
  },
  {
   "cell_type": "markdown",
   "metadata": {},
   "source": [
    "### Traverse graph_1"
   ]
  },
  {
   "cell_type": "code",
   "execution_count": null,
   "metadata": {},
   "outputs": [],
   "source": [
    "display.display(gra, display_id='d0')\n",
    "node_stack = [graph_nodes[0]]\n",
    "visited = set()\n",
    "while len(node_stack) > 0:\n",
    "    cur_node = node_stack.pop()\n",
    "    if cur_node in visited:\n",
    "        continue\n",
    "    visited.add(cur_node)\n",
    "    cur_node.val -= 1\n",
    "    for neighbor in cur_node.neighbors():\n",
    "        node_stack.append(neighbor[0])\n",
    "    cur_node.val\n",
    "    display.update_display(gra, display_id='d0')\n",
    "    time.sleep(2.0)"
   ]
  },
  {
   "cell_type": "markdown",
   "metadata": {},
   "source": [
    "### Modify nodes in graph_1"
   ]
  },
  {
   "cell_type": "code",
   "execution_count": null,
   "metadata": {},
   "outputs": [],
   "source": [
    "# Remove one node from graph.\n",
    "graph_nodes[1].remove(graph_nodes[0])\n",
    "display.display(gra, display_id='d1')\n",
    "time.sleep(3.0)\n",
    "\n",
    "# Append new neighbor node into a node already in graph.\n",
    "graph_nodes[5].append(graph_nodes[7])\n",
    "display.update_display(gra, display_id='d1')\n",
    "time.sleep(3.0)\n",
    "\n",
    "# Insert an neighbor node.\n",
    "graph_nodes[0].insertBefore(graph_nodes[4], graph_nodes[3])\n",
    "display.update_display(gra, display_id='d1')\n",
    "time.sleep(3.0)\n",
    "\n",
    "# Replace a node's neighbor.\n",
    "graph_nodes[4].replace(graph_nodes[7], graph_nodes[1])\n",
    "display.update_display(gra, display_id='d1')\n",
    "time.sleep(3.0)"
   ]
  },
  {
   "cell_type": "markdown",
   "metadata": {},
   "source": [
    "### Create an undirected graph\n",
    "\n",
    "And Let's name this undirected graph as `graph_2`."
   ]
  },
  {
   "cell_type": "code",
   "execution_count": null,
   "metadata": {},
   "outputs": [],
   "source": [
    "# Created and display an undirected graph.\n",
    "graph_nodes2 = graph.parseGraph([[0, 1, 10], [1, 2, 11], [2, 0, 12]], directed=False)\n",
    "gra2 = svg_graph.SvgGraph(list(graph_nodes2.values()), False, 3.0, horizontal=True)\n",
    "display.display(gra2, display_id='d2')\n",
    "time.sleep(3.0)\n",
    "\n",
    "# Update the edge's weight in graph_2.\n",
    "graph.updateEdgeWeight(graph_nodes2[0], graph_nodes2[1], 24)\n",
    "display.update_display(gra2, display_id='d2')\n",
    "time.sleep(3.0)"
   ]
  },
  {
   "cell_type": "markdown",
   "metadata": {},
   "source": [
    "### Mark nodes/edges in graph_2"
   ]
  },
  {
   "cell_type": "code",
   "execution_count": null,
   "metadata": {},
   "outputs": [],
   "source": [
    "# Add nodes and edges mark in graph_2.\n",
    "display.display(gra2, display_id='d3')\n",
    "gra2.markNode((255, 0, 0), graph_nodes2[0])\n",
    "gra2.markNode((255, 0, 0), graph_nodes2[2])\n",
    "gra2.markEdge((255, 0, 0), graph_nodes2[0], graph_nodes2[1])\n",
    "display.update_display(gra2, display_id='d3')\n",
    "time.sleep(2)\n",
    "\n",
    "# Remove mark in graph_2.\n",
    "gra2.removeMark((255, 0, 0))\n",
    "display.update_display(gra2, display_id='d3')"
   ]
  }
 ],
 "metadata": {
  "kernelspec": {
   "display_name": "Python 3",
   "language": "python",
   "name": "python3"
  },
  "language_info": {
   "codemirror_mode": {
    "name": "ipython",
    "version": 3
   },
   "file_extension": ".py",
   "mimetype": "text/x-python",
   "name": "python",
   "nbconvert_exporter": "python",
   "pygments_lexer": "ipython3",
   "version": "3.9.6"
  }
 },
 "nbformat": 4,
 "nbformat_minor": 4
}
