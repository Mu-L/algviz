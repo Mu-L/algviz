{
 "cells": [
  {
   "cell_type": "markdown",
   "metadata": {},
   "source": [
    "This file shows some examples of how to visualize graph data in [jupyter notebook](https://jupyter.org/).\n",
    "You can see a graph like this after run the code cells below in your jupyter notebook.\n",
    "\n",
    "![basic_graph](https://raw.githubusercontent.com/zjl9959/algviz/e4a691dfa047e8cdc299a13550dc51f2465d79ae/examples/static/basic_graph.svg)\n",
    "\n",
    "If you encounter an unknown error when running this example.\n",
    "Please check if the runtime environemt is [setup](https://github.com/zjl9959/algviz#installation) correctly, otherwise please [report](https://github.com/zjl9959/algviz/issues) a bug."
   ]
  },
  {
   "cell_type": "markdown",
   "metadata": {},
   "source": [
    "### Crate a directed graph and traverse nodes"
   ]
  },
  {
   "cell_type": "code",
   "execution_count": null,
   "metadata": {},
   "outputs": [],
   "source": [
    "import algviz\n",
    "\n",
    "# Create a visualizer object.\n",
    "viz = algviz.Visualizer(2.0)\n",
    "# Define the nodes and edges for this graph.\n",
    "nodes_str = [0, 1, 2, 3, 4, 5, 6, 7]\n",
    "edges_str = [[0,3], [3,5], [5,4], [4,1], [1,0], [2,0], [5,2], [4,6]]\n",
    "# Crate a directed graph and display it.\n",
    "graph_nodes = algviz.parseGraph(nodes_str, edges_str)\n",
    "graph = viz.createGraph(list(graph_nodes.values()))\n",
    "viz.display()\n",
    "\n",
    "# Traverse graph in depth first search algorithm.\n",
    "node_stack = [graph_nodes[0]]\n",
    "visited = set()\n",
    "while len(node_stack) > 0:\n",
    "    cur_node = node_stack.pop()\n",
    "    if cur_node in visited:\n",
    "        continue\n",
    "    visited.add(cur_node)\n",
    "    cur_node.val -= 1\n",
    "    for neighbor_node, neighbor_edge in cur_node.neighbors():\n",
    "        node_stack.append(neighbor_node)\n",
    "    cur_node.val\n",
    "    viz.display()"
   ]
  },
  {
   "cell_type": "markdown",
   "metadata": {},
   "source": [
    "### Modify graph nodes and edges"
   ]
  },
  {
   "cell_type": "code",
   "execution_count": null,
   "metadata": {},
   "outputs": [],
   "source": [
    "import algviz\n",
    "\n",
    "# Create a visualizer object.\n",
    "viz = algviz.Visualizer(3.0)\n",
    "\n",
    "# Define the nodes and edges for this graph.\n",
    "nodes_str = [0, 1, 2, 3, 4, 5, 6, 7]\n",
    "edges_str = [[0,3], [3,5], [5,4], [4,1], [1,0], [2,0], [5,2], [4,6]]\n",
    "# Crate a directed graph and display it.\n",
    "graph_nodes = algviz.parseGraph(nodes_str, edges_str)\n",
    "graph = viz.createGraph(graph_nodes)\n",
    "viz.display()\n",
    "\n",
    "# Remove one node from graph.\n",
    "graph_nodes[1].remove(graph_nodes[0])\n",
    "viz.display()\n",
    "\n",
    "# Append new neighbor node into a node already in graph.\n",
    "graph_nodes[5].add(graph_nodes[7])\n",
    "viz.display()"
   ]
  },
  {
   "cell_type": "markdown",
   "metadata": {},
   "source": [
    "### Mark nodes in undirected graph"
   ]
  },
  {
   "cell_type": "code",
   "execution_count": null,
   "metadata": {},
   "outputs": [],
   "source": [
    "import algviz\n",
    "\n",
    "# Create a visualizer object.\n",
    "viz = algviz.Visualizer(3.0)\n",
    "\n",
    "# Create an undirected graph and display it.\n",
    "nodes_str = [0, 1, 2]\n",
    "edges_str = [[0, 1, 10], [1, 2, 11], [2, 0, 12]]\n",
    "graph_nodes = algviz.parseGraph(nodes_str, edges_str, directed=False)\n",
    "graph = viz.createGraph(graph_nodes, directed=False)\n",
    "viz.display()\n",
    "\n",
    "# Update the edge's weight.\n",
    "algviz.updateGraphEdge(graph_nodes[0], graph_nodes[1], 24)\n",
    "viz.display()\n",
    "\n",
    "# Add nodes and edges mark.\n",
    "graph.markNode((255, 0, 0), graph_nodes[0])\n",
    "graph.markNode((255, 0, 0), graph_nodes[2])\n",
    "graph.markEdge((255, 0, 0), graph_nodes[0], graph_nodes[1])\n",
    "viz.display()\n",
    "\n",
    "# Remove mark.\n",
    "graph.removeMark((255, 0, 0))\n",
    "viz.display()"
   ]
  }
 ],
 "metadata": {
  "kernelspec": {
   "display_name": "Python 3",
   "language": "python",
   "name": "python3"
  },
  "language_info": {
   "codemirror_mode": {
    "name": "ipython",
    "version": 3
   },
   "file_extension": ".py",
   "mimetype": "text/x-python",
   "name": "python",
   "nbconvert_exporter": "python",
   "pygments_lexer": "ipython3",
   "version": "3.8.10"
  }
 },
 "nbformat": 4,
 "nbformat_minor": 4
}
