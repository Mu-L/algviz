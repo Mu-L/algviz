{
 "cells": [
  {
   "cell_type": "markdown",
   "metadata": {},
   "source": [
    "This file shows some examples of how to visualize table data in [jupyter notebook](https://jupyter.org/).\n",
    "You can see a table like this after run the code cells below in your jupyter notebook.\n",
    "\n",
    "![table_example](https://raw.githubusercontent.com/zjl9959/algviz/e4a691dfa047e8cdc299a13550dc51f2465d79ae/examples/static/table_example.svg)\n",
    "\n",
    "If you encounter an unknown error when running this example.\n",
    "Please check if the runtime environemt is [setup](https://github.com/zjl9959/algviz#installation) correctly, otherwise please [report](https://github.com/zjl9959/algviz/issues) a bug."
   ]
  },
  {
   "cell_type": "markdown",
   "metadata": {},
   "source": [
    "### Create table and visit & update elements"
   ]
  },
  {
   "cell_type": "code",
   "execution_count": null,
   "metadata": {},
   "outputs": [],
   "source": [
    "import algviz\n",
    "\n",
    "# Create a visualizer object.\n",
    "viz = algviz.Visualizer(0.5)\n",
    "# Define the data lable in table.\n",
    "data = [[0, 1, 2, 3],\n",
    "       [4, 5, 6, 7],\n",
    "       [8, 9, 10, 11],\n",
    "       [12, 13, 14, 15]]\n",
    "# Create table.\n",
    "table = viz.createTable(4, 4, data=data)\n",
    "viz.display()\n",
    "\n",
    "# Create a logger to print elements value.\n",
    "log = viz.createLogger(buffer_lines=1)\n",
    "\n",
    "# Use table iterator to visit element.\n",
    "for row in table:\n",
    "    for num in row:\n",
    "        log.write(\"visit:{}\".format(num))\n",
    "        viz.display()\n",
    "\n",
    "# Update table elements use index.\n",
    "for r in range(4):\n",
    "    for c in range(4):\n",
    "        log.write(\"Update table row={}, col={}\".format(r, c))\n",
    "        table[r][c] = 0\n",
    "        viz.display()\n",
    "\n",
    "# Clear log output.\n",
    "log.clear()\n",
    "viz.display()"
   ]
  },
  {
   "cell_type": "markdown",
   "metadata": {},
   "source": [
    "#### Mark elements in table"
   ]
  },
  {
   "cell_type": "code",
   "execution_count": null,
   "metadata": {},
   "outputs": [],
   "source": [
    "import algviz\n",
    "\n",
    "viz = algviz.Visualizer(0.1)\n",
    "colors = dict()\n",
    "for k in dir(algviz):\n",
    "    v = getattr(algviz, k)\n",
    "    if k.startswith('color_') and type(v) == tuple:\n",
    "        colors[k] = v\n",
    "color_table = viz.createTable(len(colors), 1, cell_size=(80, 20))\n",
    "index = 0\n",
    "for k, v in colors.items():\n",
    "    color_table[index][0] = k.replace('color_', '')\n",
    "    color_table.mark(v, index, 0)\n",
    "    index += 1\n",
    "viz.display()"
   ]
  }
 ],
 "metadata": {
  "interpreter": {
   "hash": "815ac738e0f697bd51fd06b8a1fd40126c4f0901e89f12f4abca109931f98f14"
  },
  "kernelspec": {
   "display_name": "Python 3.9.6 64-bit",
   "language": "python",
   "name": "python3"
  },
  "language_info": {
   "codemirror_mode": {
    "name": "ipython",
    "version": 3
   },
   "file_extension": ".py",
   "mimetype": "text/x-python",
   "name": "python",
   "nbconvert_exporter": "python",
   "pygments_lexer": "ipython3",
   "version": "3.9.6"
  }
 },
 "nbformat": 4,
 "nbformat_minor": 4
}
