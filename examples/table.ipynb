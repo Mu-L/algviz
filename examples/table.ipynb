{
 "cells": [
  {
   "cell_type": "markdown",
   "metadata": {},
   "source": [
    "This file shows some examples of how to visualize table data in [jupyter notebook](https://jupyter.org/).\n",
    "You can see a table like this after run the code cells below in your jupyter notebook.\n",
    "\n",
    "![table_example](static/table_example.svg)\n",
    "\n",
    "If you encounter an unknown error when running this example.\n",
    "Please check if the runtime environemt is [setup](../README.md) correctly, otherwise please [report](https://github.com/zjl9959/algviz/issues) a bug."
   ]
  },
  {
   "cell_type": "markdown",
   "metadata": {},
   "source": [
    "### Create table and visit & update elements"
   ]
  },
  {
   "cell_type": "code",
   "execution_count": null,
   "metadata": {},
   "outputs": [],
   "source": [
    "import algviz\n",
    "\n",
    "# Create a visualizer object.\n",
    "viz = algviz.Visualizer(0.5)\n",
    "# Define the data lable in table.\n",
    "data = [[0, 1, 2, 3],\n",
    "       [4, 5, 6, 7],\n",
    "       [8, 9, 10, 11],\n",
    "       [12, 13, 14, 15]]\n",
    "# Create table.\n",
    "table = viz.createTable(4, 4, data=data, cell_size=40)\n",
    "viz.display()\n",
    "\n",
    "# Use table iterator to visit element.\n",
    "for row in table:\n",
    "    for num in row:\n",
    "        print(\"visit:{}\".format(num), end=' ')\n",
    "        viz.display()\n",
    "\n",
    "# Update table elements use index.\n",
    "for r in range(4):\n",
    "    for c in range(4):\n",
    "        table[r][c] = 0\n",
    "        viz.display()\n",
    "viz.display()"
   ]
  },
  {
   "cell_type": "markdown",
   "metadata": {},
   "source": [
    "#### Mark elements in table"
   ]
  },
  {
   "cell_type": "code",
   "execution_count": null,
   "metadata": {},
   "outputs": [],
   "source": [
    "import algviz\n",
    "\n",
    "# Create a visualizer object.\n",
    "viz = algviz.Visualizer(0.5)\n",
    "\n",
    "# Mark cells in table (show default colors).\n",
    "table = viz.createTable(1, len(algviz.colors), cell_size=40, show_index=False)\n",
    "index = 0\n",
    "for color_name, color in algviz.colors.items():\n",
    "    table[0][index] = color_name\n",
    "    table.mark(color, 0, index)\n",
    "    index = index + 1\n",
    "    viz.display()"
   ]
  }
 ],
 "metadata": {
  "kernelspec": {
   "display_name": "Python 3",
   "language": "python",
   "name": "python3"
  },
  "language_info": {
   "codemirror_mode": {
    "name": "ipython",
    "version": 3
   },
   "file_extension": ".py",
   "mimetype": "text/x-python",
   "name": "python",
   "nbconvert_exporter": "python",
   "pygments_lexer": "ipython3",
   "version": "3.9.6"
  }
 },
 "nbformat": 4,
 "nbformat_minor": 4
}
