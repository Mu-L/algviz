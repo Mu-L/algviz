{
 "cells": [
  {
   "cell_type": "markdown",
   "metadata": {},
   "source": [
    "This file shows some examples of how to visualize linked list data in [jupyter notebook](https://jupyter.org/).\n",
    "You can see a forward linked list like this after run the code cells below in your jupyter notebook.\n",
    "\n",
    "![forward_linklist](static/forward_linklist.svg)\n",
    "\n",
    "If you encounter an unknown error when running this example.\n",
    "Please check if the runtime environemt is [setup](../README.md) correctly, otherwise please [report](https://github.com/zjl9959/algviz/issues) a bug."
   ]
  },
  {
   "cell_type": "markdown",
   "metadata": {},
   "source": [
    "### Visit forward linked list\n",
    "\n",
    "This example below shows how to create a froward linked list, and find the middle node of the linked list."
   ]
  },
  {
   "cell_type": "code",
   "execution_count": null,
   "metadata": {},
   "outputs": [],
   "source": [
    "import algviz\n",
    "\n",
    "# Create a visualizer object.\n",
    "viz = algviz.Visualizer(2.0)\n",
    "# Create and display a forward linked list.\n",
    "data = [1, 2, 3, 4, 5, 6, 7]\n",
    "head = algviz.parseForwardLinkedList(data)\n",
    "graph = viz.createGraph(head)\n",
    "viz.display()\n",
    "# Find the middle positon of linked list.\n",
    "tr1 = tr2 = head\n",
    "while tr1 is not None and tr1.next is not None:\n",
    "    tr1 = tr1.next.next\n",
    "    tr2 = tr2.next\n",
    "    graph.markNode((245, 222, 179), tr1, False)\n",
    "    graph.markNode((240, 248, 255), tr2, False)\n",
    "    viz.display()"
   ]
  },
  {
   "cell_type": "markdown",
   "metadata": {},
   "source": [
    "### Reverse forward linked list"
   ]
  },
  {
   "cell_type": "code",
   "execution_count": null,
   "metadata": {},
   "outputs": [],
   "source": [
    "# Create a visualizer object.\n",
    "viz = algviz.Visualizer(3.0)\n",
    "# Create and display a forward linked list.\n",
    "data = [1, 2, 3, 4, 5, 6, 7]\n",
    "head = algviz.parseForwardLinkedList(data)\n",
    "graph = viz.createGraph(head)\n",
    "viz.display()\n",
    "# Reverse the linked list.\n",
    "tr1 = None;tr2 = head\n",
    "while tr2 is not None:\n",
    "    temp = tr2.next\n",
    "    tr2.next = tr1\n",
    "    tr1 = tr2\n",
    "    tr2 = temp\n",
    "    viz.display()"
   ]
  },
  {
   "cell_type": "markdown",
   "metadata": {},
   "source": [
    "### Create and visit a doubly linked list"
   ]
  },
  {
   "cell_type": "code",
   "execution_count": null,
   "metadata": {},
   "outputs": [],
   "source": [
    "import algviz\n",
    "\n",
    "# Create a visualizer object.\n",
    "viz = algviz.Visualizer(2.0)\n",
    "# Create and display a forward linked list.\n",
    "data = [1, 2, 3, 4, 5, 6, 7]\n",
    "head, tail = algviz.parseDoublyLinkedList(data)\n",
    "graph = viz.createGraph(head)\n",
    "viz.display()\n",
    "# Find the middle positon of linked list.\n",
    "tr1 = tr2 = head\n",
    "while tr1 is not None and tr1.next is not None:\n",
    "    tr1 = tr1.next.next\n",
    "    tr2 = tr2.next\n",
    "    graph.markNode((245, 222, 179), tr1, False)\n",
    "    graph.markNode((240, 248, 255), tr2, False)\n",
    "    viz.display()"
   ]
  }
 ],
 "metadata": {
  "kernelspec": {
   "display_name": "Python 3",
   "language": "python",
   "name": "python3"
  },
  "language_info": {
   "codemirror_mode": {
    "name": "ipython",
    "version": 3
   },
   "file_extension": ".py",
   "mimetype": "text/x-python",
   "name": "python",
   "nbconvert_exporter": "python",
   "pygments_lexer": "ipython3",
   "version": "3.9.6"
  },
  "toc-showtags": false
 },
 "nbformat": 4,
 "nbformat_minor": 4
}
