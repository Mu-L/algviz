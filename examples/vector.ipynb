{
 "cells": [
  {
   "cell_type": "markdown",
   "metadata": {},
   "source": [
    "This file shows some examples of how to visualize vector data in [jupyter notebook](https://jupyter.org/).\n",
    "You can see a vector like this after run the code cells below in your jupyter notebook.\n",
    "\n",
    "![vector_example](static/vector_example.svg)\n",
    "\n",
    "If you encounter an unknown error when running this example.\n",
    "Please check if the runtime environemt is [setup](../README.md) correctly, otherwise please [report](https://github.com/zjl9959/algviz/issues) a bug."
   ]
  },
  {
   "cell_type": "markdown",
   "metadata": {},
   "source": [
    "### Create and visit vector\n",
    "\n",
    "You can create a normal vector and put any printable object into vector's cells.\n",
    "\n",
    "Then you can visit the elements by index or vector iterator."
   ]
  },
  {
   "cell_type": "code",
   "execution_count": null,
   "metadata": {},
   "outputs": [],
   "source": [
    "import algviz\n",
    "\n",
    "# Create a visualizer object.\n",
    "viz = algviz.Visualizer(0.5)\n",
    "\n",
    "# Create a vector and display it.\n",
    "data = [1, 'str', 5.6, None, -7, (2, 3)]\n",
    "vector = viz.createVector(data, show_index=False)\n",
    "viz.display()\n",
    "\n",
    "# Visit vector elements by iterator.\n",
    "log = viz.createLogger(buffer_lines=1)\n",
    "for num in vector:\n",
    "    log.write('Visit: {}'.format(num))\n",
    "    viz.display()\n",
    "log.clear()\n",
    "\n",
    "# Update vector elements.\n",
    "for i in range(len(vector)):\n",
    "    vector[i] = i\n",
    "    viz.display()\n",
    "viz.display()"
   ]
  },
  {
   "cell_type": "markdown",
   "metadata": {},
   "source": [
    "### Create a histogram vector\n",
    "\n",
    "The elements in vector must be numbers."
   ]
  },
  {
   "cell_type": "code",
   "execution_count": null,
   "metadata": {},
   "outputs": [],
   "source": [
    "import algviz\n",
    "\n",
    "# Create a visualizer object.\n",
    "viz = algviz.Visualizer(2)\n",
    "\n",
    "data = [1, 5, 3, -2, 4, 2]\n",
    "vector = viz.createVector(data, bar=200, show_index=False)\n",
    "viz.display()\n",
    "\n",
    "# Swap two elements in vector.\n",
    "vector.swap(1, 2)\n",
    "viz.display()\n",
    "\n",
    "# Mark element in vector.\n",
    "vector.mark(algviz.colors[0], 1)\n",
    "viz.display()\n",
    "\n",
    "# Insert a new element to vector.\n",
    "vector.insert(3, -1)\n",
    "viz.display()\n",
    "\n",
    "# Pop an element in vector.\n",
    "vector.pop(1)\n",
    "viz.display()\n",
    "\n",
    "# Clear vector's content.\n",
    "vector.clear()\n",
    "viz.display()"
   ]
  }
 ],
 "metadata": {
  "kernelspec": {
   "display_name": "Python 3",
   "language": "python",
   "name": "python3"
  },
  "language_info": {
   "codemirror_mode": {
    "name": "ipython",
    "version": 3
   },
   "file_extension": ".py",
   "mimetype": "text/x-python",
   "name": "python",
   "nbconvert_exporter": "python",
   "pygments_lexer": "ipython3",
   "version": "3.9.6"
  },
  "toc-autonumbering": false,
  "toc-showcode": false,
  "toc-showmarkdowntxt": false,
  "toc-showtags": false
 },
 "nbformat": 4,
 "nbformat_minor": 4
}
