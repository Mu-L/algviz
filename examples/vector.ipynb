{
 "cells": [
  {
   "cell_type": "markdown",
   "metadata": {},
   "source": [
    "This file shows some examples of how to visualize vector data in [jupyter notebook](https://jupyter.org/).\n",
    "You can see a vector like this after run the code cells below in your jupyter notebook.\n",
    "\n",
    "![vector_example](https://raw.githubusercontent.com/zjl9959/algviz/e4a691dfa047e8cdc299a13550dc51f2465d79ae/examples/static/vector_example.svg)\n",
    "\n",
    "If you encounter an unknown error when running this example.\n",
    "Please check if the runtime environemt is [setup](https://github.com/zjl9959/algviz#installation) correctly, otherwise please [report](https://github.com/zjl9959/algviz/issues) a bug."
   ]
  },
  {
   "cell_type": "markdown",
   "metadata": {},
   "source": [
    "### Create and visit vector\n",
    "\n",
    "You can create a normal vector and put any printable object into vector's cells.\n",
    "\n",
    "Then you can visit the elements by index or vector iterator."
   ]
  },
  {
   "cell_type": "code",
   "execution_count": null,
   "metadata": {},
   "outputs": [],
   "source": [
    "import algviz\n",
    "\n",
    "# Create a visualizer object.\n",
    "viz = algviz.Visualizer(0.5)\n",
    "\n",
    "# Create a vector and display it.\n",
    "data = [1, 'str', 5.6, None, -7, (2, 3)]\n",
    "vector = viz.createVector(data, show_index=False)\n",
    "viz.display()\n",
    "\n",
    "# Visit vector elements by iterator.\n",
    "log = viz.createLogger(buffer_lines=1)\n",
    "for num in vector:\n",
    "    log.write('Visit: {}'.format(num))\n",
    "    viz.display()\n",
    "log.clear()\n",
    "\n",
    "# Update vector elements.\n",
    "for i in range(len(vector)):\n",
    "    vector[i] = i\n",
    "    viz.display()\n",
    "viz.display()"
   ]
  },
  {
   "cell_type": "markdown",
   "metadata": {},
   "source": [
    "### Create a histogram vector\n",
    "\n",
    "The elements in vector must be numbers."
   ]
  },
  {
   "cell_type": "code",
   "execution_count": null,
   "metadata": {},
   "outputs": [],
   "source": [
    "import algviz\n",
    "\n",
    "# Create a visualizer object.\n",
    "viz = algviz.Visualizer(2)\n",
    "\n",
    "data = [1, 5, 3, -2, 4, 2]\n",
    "vector = viz.createVector(data, cell_size=(20, 200), histogram=True)\n",
    "viz.display()\n",
    "\n",
    "# Swap two elements in vector.\n",
    "vector.swap(1, 2)\n",
    "viz.display()\n",
    "\n",
    "# Mark element in vector.\n",
    "vector.mark(algviz.color_plum, 1)\n",
    "viz.display()\n",
    "\n",
    "# Insert a new element to vector.\n",
    "vector.insert(3, -1)\n",
    "viz.display()\n",
    "\n",
    "# Pop an element in vector.\n",
    "vector.pop(1)\n",
    "viz.display()\n",
    "\n",
    "# Clear vector's content.\n",
    "vector.clear()\n",
    "viz.display()"
   ]
  },
  {
   "cell_type": "markdown",
   "metadata": {},
   "source": [
    "### Bubble sort algorithm"
   ]
  },
  {
   "cell_type": "code",
   "execution_count": null,
   "metadata": {},
   "outputs": [],
   "source": [
    "import algviz\n",
    "\n",
    "data = [2, 3, -1, 6, -3, 5, 4]\n",
    "viz = algviz.Visualizer(2)\n",
    "name = 'Bubble sort algorithm example'\n",
    "vector = viz.createVector(data, name, cell_size=(40, 160), histogram=True)\n",
    "for e in range(len(vector)):\n",
    "    i = vector.new_cursor('i')\n",
    "    j = vector.new_cursor('j', i.index()+1)\n",
    "    while j < len(vector) - e:\n",
    "        viz.display(1.0)\n",
    "        if vector[i] > vector[j]:\n",
    "            vector.swap(i, j)\n",
    "            viz.display()\n",
    "        else:\n",
    "            viz.display(1.0)\n",
    "        i.inc()\n",
    "        j.inc()\n",
    "    vector.remove_cursor(i)\n",
    "    vector.remove_cursor(j)\n",
    "    vector.mark(algviz.color_gray, len(vector)-e-1, hold=True)\n",
    "vector.removeMark(algviz.color_gray)\n",
    "viz.display()"
   ]
  }
 ],
 "metadata": {
  "interpreter": {
   "hash": "815ac738e0f697bd51fd06b8a1fd40126c4f0901e89f12f4abca109931f98f14"
  },
  "kernelspec": {
   "display_name": "Python 3.9.6 64-bit",
   "language": "python",
   "name": "python3"
  },
  "language_info": {
   "codemirror_mode": {
    "name": "ipython",
    "version": 3
   },
   "file_extension": ".py",
   "mimetype": "text/x-python",
   "name": "python",
   "nbconvert_exporter": "python",
   "pygments_lexer": "ipython3",
   "version": "3.9.6"
  },
  "toc-autonumbering": false,
  "toc-showcode": false,
  "toc-showmarkdowntxt": false,
  "toc-showtags": false
 },
 "nbformat": 4,
 "nbformat_minor": 4
}
